{
 "cells": [
  {
   "cell_type": "markdown",
   "id": "2552a394",
   "metadata": {},
   "source": [
    "# THE SPARKS FOUNDATION\n",
    "Data Science & Business Analytics Internship - APR22 \n",
    "\n",
    "Author : OM KALI VENKAT BALABATTULA\n",
    "\n",
    "TASK 1: Prediction Using Supervised ML\n",
    "\n",
    "Query: Predict the percentage of Score of a student who studies 9.25 hours per day using the given Dataset.\n"
   ]
  },
  {
   "cell_type": "markdown",
   "id": "983601ef",
   "metadata": {},
   "source": [
    "# 1. Data Transformation"
   ]
  },
  {
   "cell_type": "code",
   "execution_count": 1,
   "id": "44487ff5",
   "metadata": {},
   "outputs": [],
   "source": [
    "#Importing all the required libraries\n",
    "import numpy as np\n",
    "import pandas as pd\n",
    "import matplotlib.pyplot as plt\n",
    "from sklearn.linear_model import LinearRegression\n",
    "from sklearn.model_selection import train_test_split\n",
    "from sklearn import metrics"
   ]
  },
  {
   "cell_type": "code",
   "execution_count": 2,
   "id": "776c6752",
   "metadata": {},
   "outputs": [
    {
     "name": "stdout",
     "output_type": "stream",
     "text": [
      "   Hours  Scores\n",
      "0    2.5      21\n",
      "1    5.1      47\n",
      "2    3.2      27\n",
      "3    8.5      75\n",
      "4    3.5      30\n"
     ]
    }
   ],
   "source": [
    "#Read the data from WEB\n",
    "link = \"http://bit.ly/w-data\"\n",
    "Data = pd.read_csv(link)\n",
    "print(Data.head())"
   ]
  },
  {
   "cell_type": "code",
   "execution_count": 3,
   "id": "e05cc068",
   "metadata": {},
   "outputs": [
    {
     "name": "stdout",
     "output_type": "stream",
     "text": [
      "(25, 2)\n"
     ]
    }
   ],
   "source": [
    "#Checking the Data structure\n",
    "print(Data.shape)"
   ]
  },
  {
   "cell_type": "code",
   "execution_count": 4,
   "id": "752f2c07",
   "metadata": {},
   "outputs": [
    {
     "name": "stdout",
     "output_type": "stream",
     "text": [
      "           Hours     Scores\n",
      "count  25.000000  25.000000\n",
      "mean    5.012000  51.480000\n",
      "std     2.525094  25.286887\n",
      "min     1.100000  17.000000\n",
      "25%     2.700000  30.000000\n",
      "50%     4.800000  47.000000\n",
      "75%     7.400000  75.000000\n",
      "max     9.200000  95.000000\n"
     ]
    }
   ],
   "source": [
    "print(Data.describe())"
   ]
  },
  {
   "cell_type": "code",
   "execution_count": 5,
   "id": "a3137aea",
   "metadata": {},
   "outputs": [
    {
     "name": "stdout",
     "output_type": "stream",
     "text": [
      "<class 'pandas.core.frame.DataFrame'>\n",
      "RangeIndex: 25 entries, 0 to 24\n",
      "Data columns (total 2 columns):\n",
      " #   Column  Non-Null Count  Dtype  \n",
      "---  ------  --------------  -----  \n",
      " 0   Hours   25 non-null     float64\n",
      " 1   Scores  25 non-null     int64  \n",
      "dtypes: float64(1), int64(1)\n",
      "memory usage: 528.0 bytes\n",
      "None\n"
     ]
    }
   ],
   "source": [
    "print(Data.info())"
   ]
  },
  {
   "cell_type": "code",
   "execution_count": 6,
   "id": "5246a467",
   "metadata": {},
   "outputs": [
    {
     "name": "stdout",
     "output_type": "stream",
     "text": [
      "Hours     0\n",
      "Scores    0\n",
      "dtype: int64\n"
     ]
    }
   ],
   "source": [
    "#Checking for Missing Values\n",
    "print(Data.isnull().sum())"
   ]
  },
  {
   "cell_type": "markdown",
   "id": "a0d91a2d",
   "metadata": {},
   "source": [
    "# 2. Data Visualization\n",
    "Let's start by ploting scatter diagram for our Dataset."
   ]
  },
  {
   "cell_type": "code",
   "execution_count": 19,
   "id": "9ec4c05b",
   "metadata": {},
   "outputs": [
    {
     "data": {
      "image/png": "[encoded data removed]",
      "text/plain": [
       "<Figure size 432x288 with 1 Axes>"
      ]
     },
     "metadata": {
      "needs_background": "light"
     },
     "output_type": "display_data"
    }
   ],
   "source": [
    "#Scatter Plot of Hours vs Scores\n",
    "plt.scatter(Data.Hours,Data.Scores,label='Score',color='green')\n",
    "plt.title(\"Study Hours Vs Percentage of Students Graph\")\n",
    "plt.xlabel(\"Hours_Studied\")\n",
    "plt.ylabel(\"Scores_gained(%)\")\n",
    "plt.legend()\n",
    "plt.show()"
   ]
  },
  {
   "cell_type": "markdown",
   "id": "44f06fcc",
   "metadata": {},
   "source": [
    "From the Scatter Polt, it is clear that \"Hours\" and \"Scores\" have positive Linear relationship.\n",
    "\n",
    "So, we can apply Linear Regression Model to predict our required query!\n",
    "\n"
   ]
  },
  {
   "cell_type": "markdown",
   "id": "5a3a08c8",
   "metadata": {},
   "source": [
    "# 3. Create Linear Model\n",
    "Divide the Dataset into Input and Output"
   ]
  },
  {
   "cell_type": "code",
   "execution_count": 21,
   "id": "db78f3bf",
   "metadata": {},
   "outputs": [],
   "source": [
    "x = Data[['Hours']]\n",
    "y = Data['Scores']"
   ]
  },
  {
   "cell_type": "markdown",
   "id": "c057142e",
   "metadata": {},
   "source": [
    "Now, it's time to split our Dataset into Train and Test Data. We will use Train Dataset to build the Model and Test Dataset to predict Dataset using the Model."
   ]
  },
  {
   "cell_type": "code",
   "execution_count": 9,
   "id": "07d9245f",
   "metadata": {},
   "outputs": [],
   "source": [
    "#Here we are split Data set into 80-20 ratio\n",
    "x_train, x_test, y_train, y_test = train_test_split(x, y, test_size = 0.2, random_state = 40)"
   ]
  },
  {
   "cell_type": "markdown",
   "id": "5a54e80b",
   "metadata": {},
   "source": [
    "So, we have 80% of the Dataset in Train and rest is Test Data."
   ]
  },
  {
   "cell_type": "code",
   "execution_count": 10,
   "id": "45342ebb",
   "metadata": {},
   "outputs": [
    {
     "data": {
      "text/plain": [
       "LinearRegression()"
      ]
     },
     "execution_count": 10,
     "metadata": {},
     "output_type": "execute_result"
    }
   ],
   "source": [
    "Model = LinearRegression()\n",
    "Model.fit(x_train,y_train)"
   ]
  },
  {
   "cell_type": "code",
   "execution_count": 11,
   "id": "89de44e9",
   "metadata": {},
   "outputs": [
    {
     "name": "stdout",
     "output_type": "stream",
     "text": [
      "Intercept : 1.7557382016513827\n",
      "Coefficient of the Independent Variable : [9.74054996]\n"
     ]
    }
   ],
   "source": [
    "#Printing the value of Intercept and Coefficient\n",
    "print(\"Intercept :\", Model.intercept_)\n",
    "print(\"Coefficient of the Independent Variable :\", Model.coef_)"
   ]
  },
  {
   "cell_type": "code",
   "execution_count": 12,
   "id": "434e9317",
   "metadata": {},
   "outputs": [
    {
     "data": {
      "image/png": "[encoded data removed]",
      "text/plain": [
       "<Figure size 432x288 with 1 Axes>"
      ]
     },
     "metadata": {
      "needs_background": "light"
     },
     "output_type": "display_data"
    }
   ],
   "source": [
    "#Regression Line\n",
    "line = Model.intercept_ + Model.coef_*x\n",
    "\n",
    "#Visualize Regression Line\n",
    "plt.scatter(Data.Hours,Data.Scores,label='Score',color='green')\n",
    "plt.title(\"Study Hours Vs Percentage of Students Graph\")\n",
    "plt.xlabel(\"Hours_Studied\")\n",
    "plt.ylabel(\"Scores_gained(%)\")\n",
    "plt.plot(x,line, color = \"red\", label = \"Regression Line\")\n",
    "plt.legend()\n",
    "plt.show()"
   ]
  },
  {
   "cell_type": "markdown",
   "id": "df6f2e42",
   "metadata": {},
   "source": [
    "# 4. Prediction Using Our Model"
   ]
  },
  {
   "cell_type": "code",
   "execution_count": 13,
   "id": "95e8bf2b",
   "metadata": {},
   "outputs": [],
   "source": [
    "#Predicted Value of the Test Dataset of X variable\n",
    "y_pred = Model.predict(x_test)"
   ]
  },
  {
   "cell_type": "code",
   "execution_count": 14,
   "id": "2e66fb6e",
   "metadata": {},
   "outputs": [
    {
     "data": {
      "text/html": [
       "<div>\n",
       "<style scoped>\n",
       "    .dataframe tbody tr th:only-of-type {\n",
       "        vertical-align: middle;\n",
       "    }\n",
       "\n",
       "    .dataframe tbody tr th {\n",
       "        vertical-align: top;\n",
       "    }\n",
       "\n",
       "    .dataframe thead th {\n",
       "        text-align: right;\n",
       "    }\n",
       "</style>\n",
       "<table border=\"1\" class=\"dataframe\">\n",
       "  <thead>\n",
       "    <tr style=\"text-align: right;\">\n",
       "      <th></th>\n",
       "      <th>Actual</th>\n",
       "      <th>Predicted</th>\n",
       "    </tr>\n",
       "  </thead>\n",
       "  <tbody>\n",
       "    <tr>\n",
       "      <th>15</th>\n",
       "      <td>95</td>\n",
       "      <td>88.446633</td>\n",
       "    </tr>\n",
       "    <tr>\n",
       "      <th>24</th>\n",
       "      <td>86</td>\n",
       "      <td>77.732028</td>\n",
       "    </tr>\n",
       "    <tr>\n",
       "      <th>14</th>\n",
       "      <td>17</td>\n",
       "      <td>12.470343</td>\n",
       "    </tr>\n",
       "    <tr>\n",
       "      <th>19</th>\n",
       "      <td>69</td>\n",
       "      <td>73.835808</td>\n",
       "    </tr>\n",
       "    <tr>\n",
       "      <th>13</th>\n",
       "      <td>42</td>\n",
       "      <td>33.899553</td>\n",
       "    </tr>\n",
       "  </tbody>\n",
       "</table>\n",
       "</div>"
      ],
      "text/plain": [
       "    Actual  Predicted\n",
       "15      95  88.446633\n",
       "24      86  77.732028\n",
       "14      17  12.470343\n",
       "19      69  73.835808\n",
       "13      42  33.899553"
      ]
     },
     "execution_count": 14,
     "metadata": {},
     "output_type": "execute_result"
    }
   ],
   "source": [
    "#Creating DataFrame for comparing Actual vs Predictied Value\n",
    "\n",
    "df = pd.DataFrame({\"Actual\":y_test,\"Predicted\": y_pred})\n",
    "df"
   ]
  },
  {
   "cell_type": "code",
   "execution_count": 15,
   "id": "5e9038b1",
   "metadata": {},
   "outputs": [
    {
     "name": "stdout",
     "output_type": "stream",
     "text": [
      "Training Score : 0.9504931730009657\n",
      "Testing Score : 0.9466449081971943\n"
     ]
    }
   ],
   "source": [
    "#Calculating Model Accuracy\n",
    "print(\"Training Score :\", Model.score(x_train, y_train))\n",
    "print(\"Testing Score :\", Model.score(x_test, y_test))"
   ]
  },
  {
   "cell_type": "markdown",
   "id": "19107264",
   "metadata": {},
   "source": [
    "5. Predict Our Query"
   ]
  },
  {
   "cell_type": "code",
   "execution_count": 16,
   "id": "d5fed139",
   "metadata": {},
   "outputs": [
    {
     "name": "stdout",
     "output_type": "stream",
     "text": [
      "No. of Hours Studied : 9.25\n",
      "Predicted Score : 91.85582531626392\n"
     ]
    }
   ],
   "source": [
    "query = 9.25\n",
    "new_pred= Model.predict([[query]])\n",
    "print(\"No. of Hours Studied :\", query)\n",
    "print(\"Predicted Score :\",new_pred[0])"
   ]
  },
  {
   "cell_type": "markdown",
   "id": "8c479180",
   "metadata": {},
   "source": [
    "# 6. Checking Error and Accuracy"
   ]
  },
  {
   "cell_type": "code",
   "execution_count": 17,
   "id": "9a8dda5c",
   "metadata": {},
   "outputs": [
    {
     "name": "stdout",
     "output_type": "stream",
     "text": [
      "Mean Absolute Error : 6.457450193167183\n",
      "Mean Squared Error : 44.1652107906905\n",
      "R-2 Score : 0.9466449081971943\n"
     ]
    }
   ],
   "source": [
    "#Checking Absolute Error\n",
    "print(\"Mean Absolute Error :\", metrics.mean_absolute_error(y_test, y_pred))\n",
    "print(\"Mean Squared Error :\", metrics.mean_squared_error(y_test, y_pred))\n",
    "print(\"R-2 Score :\", metrics.r2_score(y_test, y_pred))"
   ]
  },
  {
   "cell_type": "markdown",
   "id": "201fe990",
   "metadata": {},
   "source": [
    "Mean Absolute Error : 6.457450193167183\n",
    "\n",
    "Mean Squared Error : 44.1652107906905\n",
    "\n",
    "R-2 Score : 0.9466449081971943\n",
    "\n",
    "After the last step, we can comment that Our Model can give 94.66% accurate results which is pretty good.\n",
    "\n",
    "Comment on my Task: If a student studies for 9.25 hours per day, from the given Dataset we can predict that the student is expected to score 91.85% (approx).\n"
   ]
  },
  {
   "cell_type": "markdown",
   "id": "907384d8",
   "metadata": {},
   "source": [
    "----------------------------------------------------------# Thank you !!------------------------------------------------------------------------"
   ]
  },
  {
   "cell_type": "code",
   "execution_count": null,
   "id": "c35e389e",
   "metadata": {},
   "outputs": [],
   "source": []
  },
  {
   "cell_type": "code",
   "execution_count": null,
   "id": "29884603",
   "metadata": {},
   "outputs": [],
   "source": []
  },
  {
   "cell_type": "code",
   "execution_count": null,
   "id": "b31f24e6",
   "metadata": {},
   "outputs": [],
   "source": []
  }
 ],
 "metadata": {
  "kernelspec": {
   "display_name": "Python 3 (ipykernel)",
   "language": "python",
   "name": "python3"
  },
  "language_info": {
   "codemirror_mode": {
    "name": "ipython",
    "version": 3
   },
   "file_extension": ".py",
   "mimetype": "text/x-python",
   "name": "python",
   "nbconvert_exporter": "python",
   "pygments_lexer": "ipython3",
   "version": "3.9.7"
  }
 },
 "nbformat": 4,
 "nbformat_minor": 5
}
